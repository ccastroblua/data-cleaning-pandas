{
 "cells": [
  {
   "cell_type": "markdown",
   "id": "c43920af",
   "metadata": {},
   "source": [
    "# Shark Attacks\n",
    "\n",
    "## Proyecto 1:\n",
    "\n",
    "#### 1 - Estan creciendo o decreciendo los ataques de tiburones? (YoY) / A partir del 2000\n",
    "\n",
    "## Proyecto 2:\n",
    "\n",
    "#### 1 - Que probabilidad hay de muerte por ataque de tiburon?\n",
    "#### 2 - Que actividad es la que más atrae a los ataques de los tiburones?\n",
    "#### 3 - Hay correlacion entre la actividad, la especie de tiburon y la fatalidad del ataque?\n",
    "\n",
    "## Proyecto 3:\n",
    "\n",
    "#### 1 - Cuales son los 5 paises con mas ataques de tiburones? \n",
    "#### 2 - Cuales son los meses del año con más ataques de tiburones? \n",
    "#### 3 - Que temporada es?\n",
    "#### 4 - Pertenecen a una misma región?\n",
    "#### 5 - Tiene correlación los ataques de tiburones y la temporada?\n"
   ]
  },
  {
   "cell_type": "markdown",
   "id": "fe0d25a3",
   "metadata": {},
   "source": [
    "### Readme:\n",
    "    -Foto\n",
    "    -Hipotesis y breve resumen\n",
    "    -Estructura de archivos y carpetas\n",
    "    -Librerias utilizadas"
   ]
  },
  {
   "cell_type": "code",
   "execution_count": 1,
   "id": "870bfde5",
   "metadata": {},
   "outputs": [],
   "source": [
    "import pandas as pd\n",
    "import seaborn as sns\n",
    "import matplotlib.pyplot as plt\n",
    "import matplotlib\n",
    "\n",
    "import src.cleaning_utils as cl"
   ]
  },
  {
   "cell_type": "code",
   "execution_count": 2,
   "id": "2d6c7b19",
   "metadata": {},
   "outputs": [],
   "source": [
    "# Permite cambiar el tamaño de todos los graficos que vayas a realizar de ahora en adelante\n",
    "\n",
    "matplotlib.rcParams['figure.figsize'] = (20, 10)"
   ]
  },
  {
   "cell_type": "code",
   "execution_count": 3,
   "id": "ed5b501e",
   "metadata": {},
   "outputs": [],
   "source": [
    "data = pd.read_csv(\"./attacks_limpio.csv\")"
   ]
  },
  {
   "cell_type": "code",
   "execution_count": 4,
   "id": "a8171ca1",
   "metadata": {
    "scrolled": true
   },
   "outputs": [
    {
     "data": {
      "text/html": [
       "<div>\n",
       "<style scoped>\n",
       "    .dataframe tbody tr th:only-of-type {\n",
       "        vertical-align: middle;\n",
       "    }\n",
       "\n",
       "    .dataframe tbody tr th {\n",
       "        vertical-align: top;\n",
       "    }\n",
       "\n",
       "    .dataframe thead th {\n",
       "        text-align: right;\n",
       "    }\n",
       "</style>\n",
       "<table border=\"1\" class=\"dataframe\">\n",
       "  <thead>\n",
       "    <tr style=\"text-align: right;\">\n",
       "      <th></th>\n",
       "      <th>case_number</th>\n",
       "      <th>date</th>\n",
       "      <th>year</th>\n",
       "      <th>type</th>\n",
       "      <th>country</th>\n",
       "      <th>area</th>\n",
       "      <th>activity</th>\n",
       "      <th>fatal</th>\n",
       "      <th>species</th>\n",
       "      <th>pdf</th>\n",
       "    </tr>\n",
       "  </thead>\n",
       "  <tbody>\n",
       "    <tr>\n",
       "      <th>0</th>\n",
       "      <td>2018.06.25</td>\n",
       "      <td>25-Jun-2018</td>\n",
       "      <td>2018</td>\n",
       "      <td>Boating</td>\n",
       "      <td>USA</td>\n",
       "      <td>California</td>\n",
       "      <td>Paddling</td>\n",
       "      <td>N</td>\n",
       "      <td>White shark</td>\n",
       "      <td>2018.06.25-Wolfe.pdf</td>\n",
       "    </tr>\n",
       "    <tr>\n",
       "      <th>1</th>\n",
       "      <td>2018.06.18</td>\n",
       "      <td>18-Jun-2018</td>\n",
       "      <td>2018</td>\n",
       "      <td>Unprovoked</td>\n",
       "      <td>USA</td>\n",
       "      <td>Georgia</td>\n",
       "      <td>Standing</td>\n",
       "      <td>N</td>\n",
       "      <td>NaN</td>\n",
       "      <td>2018.06.18-McNeely.pdf</td>\n",
       "    </tr>\n",
       "    <tr>\n",
       "      <th>2</th>\n",
       "      <td>2018.06.09</td>\n",
       "      <td>09-Jun-2018</td>\n",
       "      <td>2018</td>\n",
       "      <td>Invalid</td>\n",
       "      <td>USA</td>\n",
       "      <td>Hawaii</td>\n",
       "      <td>Surfing</td>\n",
       "      <td>N</td>\n",
       "      <td>NaN</td>\n",
       "      <td>2018.06.09-Denges.pdf</td>\n",
       "    </tr>\n",
       "    <tr>\n",
       "      <th>3</th>\n",
       "      <td>2018.06.08</td>\n",
       "      <td>08-Jun-2018</td>\n",
       "      <td>2018</td>\n",
       "      <td>Unprovoked</td>\n",
       "      <td>AUSTRALIA</td>\n",
       "      <td>New South Wales</td>\n",
       "      <td>Surfing</td>\n",
       "      <td>N</td>\n",
       "      <td>2 m shark</td>\n",
       "      <td>2018.06.08-Arrawarra.pdf</td>\n",
       "    </tr>\n",
       "    <tr>\n",
       "      <th>4</th>\n",
       "      <td>2018.06.04</td>\n",
       "      <td>04-Jun-2018</td>\n",
       "      <td>2018</td>\n",
       "      <td>Provoked</td>\n",
       "      <td>MEXICO</td>\n",
       "      <td>Colima</td>\n",
       "      <td>Free diving</td>\n",
       "      <td>N</td>\n",
       "      <td>Tiger shark, 3m</td>\n",
       "      <td>2018.06.04-Ramos.pdf</td>\n",
       "    </tr>\n",
       "    <tr>\n",
       "      <th>...</th>\n",
       "      <td>...</td>\n",
       "      <td>...</td>\n",
       "      <td>...</td>\n",
       "      <td>...</td>\n",
       "      <td>...</td>\n",
       "      <td>...</td>\n",
       "      <td>...</td>\n",
       "      <td>...</td>\n",
       "      <td>...</td>\n",
       "      <td>...</td>\n",
       "    </tr>\n",
       "    <tr>\n",
       "      <th>6296</th>\n",
       "      <td>ND.0006</td>\n",
       "      <td>Before 1906</td>\n",
       "      <td>0</td>\n",
       "      <td>Unprovoked</td>\n",
       "      <td>AUSTRALIA</td>\n",
       "      <td>New South Wales</td>\n",
       "      <td>Swimming</td>\n",
       "      <td>Y</td>\n",
       "      <td>Said to involve a grey nurse shark that leapt ...</td>\n",
       "      <td>ND-0006-ArabBoy-Prymount.pdf</td>\n",
       "    </tr>\n",
       "    <tr>\n",
       "      <th>6297</th>\n",
       "      <td>ND.0005</td>\n",
       "      <td>Before 1903</td>\n",
       "      <td>0</td>\n",
       "      <td>Unprovoked</td>\n",
       "      <td>AUSTRALIA</td>\n",
       "      <td>Western Australia</td>\n",
       "      <td>Diving</td>\n",
       "      <td>Y</td>\n",
       "      <td>NaN</td>\n",
       "      <td>ND-0005-RoebuckBay.pdf</td>\n",
       "    </tr>\n",
       "    <tr>\n",
       "      <th>6298</th>\n",
       "      <td>ND.0004</td>\n",
       "      <td>Before 1903</td>\n",
       "      <td>0</td>\n",
       "      <td>Unprovoked</td>\n",
       "      <td>AUSTRALIA</td>\n",
       "      <td>Western Australia</td>\n",
       "      <td>Pearl diving</td>\n",
       "      <td>Y</td>\n",
       "      <td>NaN</td>\n",
       "      <td>ND-0004-Ahmun.pdf</td>\n",
       "    </tr>\n",
       "    <tr>\n",
       "      <th>6299</th>\n",
       "      <td>ND.0003</td>\n",
       "      <td>1900-1905</td>\n",
       "      <td>0</td>\n",
       "      <td>Unprovoked</td>\n",
       "      <td>USA</td>\n",
       "      <td>North Carolina</td>\n",
       "      <td>Swimming</td>\n",
       "      <td>Y</td>\n",
       "      <td>NaN</td>\n",
       "      <td>ND-0003-Ocracoke_1900-1905.pdf</td>\n",
       "    </tr>\n",
       "    <tr>\n",
       "      <th>6300</th>\n",
       "      <td>ND.0002</td>\n",
       "      <td>1883-1889</td>\n",
       "      <td>0</td>\n",
       "      <td>Unprovoked</td>\n",
       "      <td>PANAMA</td>\n",
       "      <td>NaN</td>\n",
       "      <td>NaN</td>\n",
       "      <td>Y</td>\n",
       "      <td>NaN</td>\n",
       "      <td>ND-0002-JulesPatterson.pdf</td>\n",
       "    </tr>\n",
       "  </tbody>\n",
       "</table>\n",
       "<p>6301 rows × 10 columns</p>\n",
       "</div>"
      ],
      "text/plain": [
       "     case_number         date  year        type    country               area  \\\n",
       "0     2018.06.25  25-Jun-2018  2018     Boating        USA         California   \n",
       "1     2018.06.18  18-Jun-2018  2018  Unprovoked        USA            Georgia   \n",
       "2     2018.06.09  09-Jun-2018  2018     Invalid        USA             Hawaii   \n",
       "3     2018.06.08  08-Jun-2018  2018  Unprovoked  AUSTRALIA    New South Wales   \n",
       "4     2018.06.04  04-Jun-2018  2018    Provoked     MEXICO             Colima   \n",
       "...          ...          ...   ...         ...        ...                ...   \n",
       "6296     ND.0006  Before 1906     0  Unprovoked  AUSTRALIA    New South Wales   \n",
       "6297     ND.0005  Before 1903     0  Unprovoked  AUSTRALIA  Western Australia   \n",
       "6298     ND.0004  Before 1903     0  Unprovoked  AUSTRALIA  Western Australia   \n",
       "6299     ND.0003    1900-1905     0  Unprovoked        USA     North Carolina   \n",
       "6300     ND.0002    1883-1889     0  Unprovoked     PANAMA                NaN   \n",
       "\n",
       "          activity fatal                                            species  \\\n",
       "0         Paddling     N                                        White shark   \n",
       "1         Standing     N                                                NaN   \n",
       "2          Surfing     N                                                NaN   \n",
       "3          Surfing     N                                          2 m shark   \n",
       "4      Free diving     N                                    Tiger shark, 3m   \n",
       "...            ...   ...                                                ...   \n",
       "6296      Swimming     Y  Said to involve a grey nurse shark that leapt ...   \n",
       "6297        Diving     Y                                                NaN   \n",
       "6298  Pearl diving     Y                                                NaN   \n",
       "6299      Swimming     Y                                                NaN   \n",
       "6300           NaN     Y                                                NaN   \n",
       "\n",
       "                                 pdf  \n",
       "0               2018.06.25-Wolfe.pdf  \n",
       "1             2018.06.18-McNeely.pdf  \n",
       "2              2018.06.09-Denges.pdf  \n",
       "3           2018.06.08-Arrawarra.pdf  \n",
       "4               2018.06.04-Ramos.pdf  \n",
       "...                              ...  \n",
       "6296    ND-0006-ArabBoy-Prymount.pdf  \n",
       "6297          ND-0005-RoebuckBay.pdf  \n",
       "6298               ND-0004-Ahmun.pdf  \n",
       "6299  ND-0003-Ocracoke_1900-1905.pdf  \n",
       "6300      ND-0002-JulesPatterson.pdf  \n",
       "\n",
       "[6301 rows x 10 columns]"
      ]
     },
     "execution_count": 4,
     "metadata": {},
     "output_type": "execute_result"
    }
   ],
   "source": [
    "data"
   ]
  },
  {
   "cell_type": "markdown",
   "id": "a32f16b7",
   "metadata": {},
   "source": [
    "# Proyecto 1:"
   ]
  },
  {
   "cell_type": "code",
   "execution_count": 5,
   "id": "8cca2f45",
   "metadata": {
    "scrolled": true
   },
   "outputs": [],
   "source": [
    "# Seleccionamos solo los años del 2000 o posteriores\n",
    "\n",
    "df_years = data[data.year >= 2000]"
   ]
  },
  {
   "cell_type": "code",
   "execution_count": 6,
   "id": "7ebfe937",
   "metadata": {
    "scrolled": true
   },
   "outputs": [
    {
     "data": {
      "text/plain": [
       "<AxesSubplot:xlabel='year', ylabel='count'>"
      ]
     },
     "execution_count": 6,
     "metadata": {},
     "output_type": "execute_result"
    },
    {
     "data": {
      "image/png": "[encoded data removed]",
      "text/plain": [
       "<Figure size 1440x720 with 1 Axes>"
      ]
     },
     "metadata": {
      "needs_background": "light"
     },
     "output_type": "display_data"
    }
   ],
   "source": [
    "sns.countplot(x=df_years.year)"
   ]
  },
  {
   "cell_type": "markdown",
   "id": "769fd711",
   "metadata": {},
   "source": [
    "#### Podemos observar claramente el crecimiento de los ataques de tiburones año contra año, que puede estar dado por varios factores. Algunos pueden ser:\n",
    "    -Aumento de cantidad de tiburones\n",
    "    -Aumento en la cantidad de medidas capturadas\n",
    "   \n",
    "#### Aclaración en el 2018 solo tenemos datos de la primera mitad del año."
   ]
  },
  {
   "cell_type": "code",
   "execution_count": 7,
   "id": "95baa9ed",
   "metadata": {},
   "outputs": [
    {
     "data": {
      "text/plain": [
       "9.210526315789474"
      ]
     },
     "execution_count": 7,
     "metadata": {},
     "output_type": "execute_result"
    }
   ],
   "source": [
    "# We calculate the mean of deaths per year\n",
    "\n",
    "year_deaths_mean = df_years[df_years.fatal == \"Y\"].year.value_counts().mean()\n",
    "year_deaths_mean"
   ]
  },
  {
   "cell_type": "code",
   "execution_count": 8,
   "id": "7b813578",
   "metadata": {
    "scrolled": false
   },
   "outputs": [
    {
     "data": {
      "image/png": "[encoded data removed]",
      "text/plain": [
       "<Figure size 1440x720 with 1 Axes>"
      ]
     },
     "metadata": {
      "needs_background": "light"
     },
     "output_type": "display_data"
    }
   ],
   "source": [
    "fig, ax = plt.subplots(figsize=(20, 10))\n",
    "\n",
    "sns.countplot(x=df_years.year, hue=df_years.fatal, ax=ax)\n",
    "\n",
    "ax.axhline(y=year_deaths_mean, c=\"red\", label=\"mean\")\n",
    "ax.legend()\n",
    "\n",
    "ax.annotate(\"Mean = 9.21 deaths\", xy=(0.5,10))\n",
    "\n",
    "fig.show()"
   ]
  },
  {
   "cell_type": "markdown",
   "id": "e6f696a3",
   "metadata": {},
   "source": [
    "#### Podemos observar también que mas alla del aumento de los ataques de tiburones, no hubo un incremento en la fatalidad de los mismos. Si, se puede observar un crecimiento claro en los ataques no fatales.\n",
    "\n",
    "#### El esto puede estar dado por varios factores: \n",
    "    -Por una mejor respuesta o aumento de las personas de seguridad en las playas\n",
    "    -Por una mejor respuesta en los servicios de salud.\n"
   ]
  },
  {
   "cell_type": "markdown",
   "id": "8df8c0d3",
   "metadata": {},
   "source": [
    "# Proyecto 2"
   ]
  },
  {
   "cell_type": "markdown",
   "id": "f5d0caff",
   "metadata": {},
   "source": [
    "#### 1 - Que probabilidad hay de muerte por ataque de tiburon por año?"
   ]
  },
  {
   "cell_type": "code",
   "execution_count": 9,
   "id": "07d9e600",
   "metadata": {
    "scrolled": true
   },
   "outputs": [],
   "source": [
    "deaths = df_years.groupby(\"year\")[\"fatal\"].value_counts()"
   ]
  },
  {
   "cell_type": "code",
   "execution_count": 10,
   "id": "d25170f0",
   "metadata": {},
   "outputs": [
    {
     "data": {
      "text/plain": [
       "year  fatal  \n",
       "2000  N           73\n",
       "      Y           18\n",
       "      UNKNOWN      6\n",
       "2001  N           81\n",
       "      Y            6\n",
       "      UNKNOWN      5\n",
       "2002  N           74\n",
       "      Y           10\n",
       "      UNKNOWN      4\n",
       "2003  N           78\n",
       "      Y            8\n",
       "      UNKNOWN      6\n",
       "2004  N           69\n",
       "      Y           14\n",
       "      UNKNOWN      9\n",
       "2005  N           84\n",
       "      UNKNOWN     12\n",
       "      Y            7\n",
       "2006  N           83\n",
       "      UNKNOWN     10\n",
       "      Y           10\n",
       "2007  N           96\n",
       "      UNKNOWN     11\n",
       "      Y            5\n",
       "2008  N          100\n",
       "      UNKNOWN     12\n",
       "      Y           10\n",
       "2009  N           97\n",
       "      Y           13\n",
       "      UNKNOWN     10\n",
       "2010  N           89\n",
       "      Y            8\n",
       "      UNKNOWN      4\n",
       "2011  N          104\n",
       "      Y           14\n",
       "      UNKNOWN     10\n",
       "2012  N           98\n",
       "      UNKNOWN     10\n",
       "      Y            9\n",
       "2013  N          101\n",
       "      Y           13\n",
       "      UNKNOWN      8\n",
       "2014  N          111\n",
       "      UNKNOWN      9\n",
       "      Y            7\n",
       "2015  N          121\n",
       "      UNKNOWN     13\n",
       "      Y            9\n",
       "2016  N          114\n",
       "      UNKNOWN     11\n",
       "      Y            5\n",
       "2017  N          115\n",
       "      UNKNOWN     13\n",
       "      Y            8\n",
       "2018  N           51\n",
       "      UNKNOWN      1\n",
       "      Y            1\n",
       "Name: fatal, dtype: int64"
      ]
     },
     "execution_count": 10,
     "metadata": {},
     "output_type": "execute_result"
    }
   ],
   "source": [
    "deaths"
   ]
  },
  {
   "cell_type": "code",
   "execution_count": 11,
   "id": "308a7d56",
   "metadata": {},
   "outputs": [],
   "source": [
    "prob_death_year = {}\n",
    "year = 2000\n",
    "\n",
    "while year <= 2018:\n",
    "    prob_death_year[year] = ((deaths[year][\"Y\"]/(deaths[year][\"N\"] + deaths[year][\"Y\"]))*100).round(2)\n",
    "    year += 1"
   ]
  },
  {
   "cell_type": "code",
   "execution_count": 12,
   "id": "20d48b0a",
   "metadata": {},
   "outputs": [
    {
     "data": {
      "text/plain": [
       "{2000: 19.78,\n",
       " 2001: 6.9,\n",
       " 2002: 11.9,\n",
       " 2003: 9.3,\n",
       " 2004: 16.87,\n",
       " 2005: 7.69,\n",
       " 2006: 10.75,\n",
       " 2007: 4.95,\n",
       " 2008: 9.09,\n",
       " 2009: 11.82,\n",
       " 2010: 8.25,\n",
       " 2011: 11.86,\n",
       " 2012: 8.41,\n",
       " 2013: 11.4,\n",
       " 2014: 5.93,\n",
       " 2015: 6.92,\n",
       " 2016: 4.2,\n",
       " 2017: 6.5,\n",
       " 2018: 1.92}"
      ]
     },
     "execution_count": 12,
     "metadata": {},
     "output_type": "execute_result"
    }
   ],
   "source": [
    "prob_death_year"
   ]
  },
  {
   "cell_type": "code",
   "execution_count": 13,
   "id": "9c34f4fc",
   "metadata": {
    "scrolled": true
   },
   "outputs": [],
   "source": [
    "# Probability of die by a shark attack\n",
    "\n",
    "pd_death_year = pd.DataFrame(prob_death_year, index=[0]).T"
   ]
  },
  {
   "cell_type": "code",
   "execution_count": 14,
   "id": "a82908df",
   "metadata": {},
   "outputs": [],
   "source": [
    "pd_death_year = pd_death_year.reset_index()"
   ]
  },
  {
   "cell_type": "code",
   "execution_count": 15,
   "id": "1b1ff844",
   "metadata": {},
   "outputs": [],
   "source": [
    "columns = [\"year\",\"avg_death\"]\n",
    "\n",
    "pd_death_year = cl.change_column_name(pd_death_year,columns)"
   ]
  },
  {
   "cell_type": "markdown",
   "id": "10590cfb",
   "metadata": {},
   "source": [
    "Calculamos varios datos estadisticos anuales de probabilidad de muerte:"
   ]
  },
  {
   "cell_type": "code",
   "execution_count": 16,
   "id": "69664c7f",
   "metadata": {},
   "outputs": [
    {
     "data": {
      "text/html": [
       "<div>\n",
       "<style scoped>\n",
       "    .dataframe tbody tr th:only-of-type {\n",
       "        vertical-align: middle;\n",
       "    }\n",
       "\n",
       "    .dataframe tbody tr th {\n",
       "        vertical-align: top;\n",
       "    }\n",
       "\n",
       "    .dataframe thead th {\n",
       "        text-align: right;\n",
       "    }\n",
       "</style>\n",
       "<table border=\"1\" class=\"dataframe\">\n",
       "  <thead>\n",
       "    <tr style=\"text-align: right;\">\n",
       "      <th></th>\n",
       "      <th>year</th>\n",
       "      <th>avg_death</th>\n",
       "    </tr>\n",
       "  </thead>\n",
       "  <tbody>\n",
       "    <tr>\n",
       "      <th>count</th>\n",
       "      <td>19.000000</td>\n",
       "      <td>19.000000</td>\n",
       "    </tr>\n",
       "    <tr>\n",
       "      <th>mean</th>\n",
       "      <td>2009.000000</td>\n",
       "      <td>9.181053</td>\n",
       "    </tr>\n",
       "    <tr>\n",
       "      <th>std</th>\n",
       "      <td>5.627314</td>\n",
       "      <td>4.266094</td>\n",
       "    </tr>\n",
       "    <tr>\n",
       "      <th>min</th>\n",
       "      <td>2000.000000</td>\n",
       "      <td>1.920000</td>\n",
       "    </tr>\n",
       "    <tr>\n",
       "      <th>25%</th>\n",
       "      <td>2004.500000</td>\n",
       "      <td>6.700000</td>\n",
       "    </tr>\n",
       "    <tr>\n",
       "      <th>50%</th>\n",
       "      <td>2009.000000</td>\n",
       "      <td>8.410000</td>\n",
       "    </tr>\n",
       "    <tr>\n",
       "      <th>75%</th>\n",
       "      <td>2013.500000</td>\n",
       "      <td>11.610000</td>\n",
       "    </tr>\n",
       "    <tr>\n",
       "      <th>max</th>\n",
       "      <td>2018.000000</td>\n",
       "      <td>19.780000</td>\n",
       "    </tr>\n",
       "  </tbody>\n",
       "</table>\n",
       "</div>"
      ],
      "text/plain": [
       "              year  avg_death\n",
       "count    19.000000  19.000000\n",
       "mean   2009.000000   9.181053\n",
       "std       5.627314   4.266094\n",
       "min    2000.000000   1.920000\n",
       "25%    2004.500000   6.700000\n",
       "50%    2009.000000   8.410000\n",
       "75%    2013.500000  11.610000\n",
       "max    2018.000000  19.780000"
      ]
     },
     "execution_count": 16,
     "metadata": {},
     "output_type": "execute_result"
    }
   ],
   "source": [
    "pd_death_year.describe()"
   ]
  },
  {
   "cell_type": "markdown",
   "id": "6cd6e0ed",
   "metadata": {},
   "source": [
    "El promedio anual de probabilidad de muerte es de 9,18%."
   ]
  },
  {
   "cell_type": "code",
   "execution_count": 17,
   "id": "9fec54ce",
   "metadata": {},
   "outputs": [],
   "source": [
    "years = list(prob_death_year.keys())"
   ]
  },
  {
   "cell_type": "code",
   "execution_count": 18,
   "id": "97335fc1",
   "metadata": {
    "scrolled": false
   },
   "outputs": [
    {
     "data": {
      "text/plain": [
       "<AxesSubplot:xlabel='Year', ylabel='Death probability'>"
      ]
     },
     "execution_count": 18,
     "metadata": {},
     "output_type": "execute_result"
    },
    {
     "data": {
      "image/png": "[encoded data removed]",
      "text/plain": [
       "<Figure size 1440x720 with 1 Axes>"
      ]
     },
     "metadata": {
      "needs_background": "light"
     },
     "output_type": "display_data"
    }
   ],
   "source": [
    "pd_death_year.plot(x=\"year\",y=\"avg_death\",ylabel=\"Death probability\",xlabel=\"Year\",xticks=years)"
   ]
  },
  {
   "cell_type": "markdown",
   "id": "3c7581c3",
   "metadata": {},
   "source": [
    "Como corroboramos anteriormente la probilidad de morir por ataque de tiburon esta descendiendo considerablemente año contra año"
   ]
  },
  {
   "cell_type": "markdown",
   "id": "0194d8ac",
   "metadata": {},
   "source": [
    "#### 2 - Que actividad es la que más atrae a los ataques de los tiburones?"
   ]
  },
  {
   "cell_type": "code",
   "execution_count": 19,
   "id": "ad3f87c3",
   "metadata": {
    "scrolled": true
   },
   "outputs": [
    {
     "data": {
      "text/plain": [
       "Surfing         971\n",
       "Swimming        868\n",
       "Fishing         431\n",
       "Spearfishing    333\n",
       "Bathing         162\n",
       "Wading          149\n",
       "Diving          127\n",
       "Standing         99\n",
       "Snorkeling       89\n",
       "Scuba diving     76\n",
       "Name: activity, dtype: int64"
      ]
     },
     "execution_count": 19,
     "metadata": {},
     "output_type": "execute_result"
    }
   ],
   "source": [
    "data[\"activity\"].value_counts().head(10)"
   ]
  },
  {
   "cell_type": "code",
   "execution_count": 20,
   "id": "8b10e154",
   "metadata": {
    "scrolled": true
   },
   "outputs": [],
   "source": [
    "lst = [\"Surfing\",\"Swimming\",\"Fishing\",\"Spearfishing\",\"Bathing\",\"Wading\",\"Diving\",\"Standing\",\"Snorkeling\",\"Scuba diving\"]\n",
    "\n",
    "activity_death = data[data[\"activity\"].isin(lst)]"
   ]
  },
  {
   "cell_type": "code",
   "execution_count": 21,
   "id": "b3ec4583",
   "metadata": {
    "scrolled": false
   },
   "outputs": [
    {
     "data": {
      "text/plain": [
       "<AxesSubplot:xlabel='activity', ylabel='count'>"
      ]
     },
     "execution_count": 21,
     "metadata": {},
     "output_type": "execute_result"
    },
    {
     "data": {
      "image/png": "[encoded data removed]",
      "text/plain": [
       "<Figure size 1440x720 with 1 Axes>"
      ]
     },
     "metadata": {
      "needs_background": "light"
     },
     "output_type": "display_data"
    }
   ],
   "source": [
    "sns.countplot(x=activity_death[\"activity\"],hue=activity_death[\"fatal\"])"
   ]
  },
  {
   "cell_type": "markdown",
   "id": "a6ecfa8f",
   "metadata": {},
   "source": [
    "Podemos inferir en base a este grafico que las actividades que se realizan en mar adentro tienen una tasa mayor de ataque de tiburones, dentro de las cuales la que mayor tasa de mortandad tiene son las que se realizan sin equipamiento alguno como \"Swimming\" y \"Bathing\", a diferencia del \"Surfing\",\"Snorkeling\" y \"Spearfishing\". Esto podría deberse a la capacidad de frente a un ataque tener recursos para poder escaparse de manera más rapida.\n",
    "\n",
    "Por otro lado, actividades que usualmente no se realizan mar adentro como \"Fishing\", \"Standing\", \"Wading\" tienen menos incidencias de ataques.\n",
    "\n",
    "Sería excelente poder investigar un poco más para poder confirmar estas hipotesis."
   ]
  },
  {
   "cell_type": "markdown",
   "id": "ab148587",
   "metadata": {},
   "source": [
    "#### 3 - Hay correlacion entre la actividad, la especie de tiburon y la fatalidad del ataque?"
   ]
  },
  {
   "cell_type": "code",
   "execution_count": 22,
   "id": "5045fe2c",
   "metadata": {},
   "outputs": [],
   "source": [
    "species_death = data.groupby(\"species\")[\"fatal\"].value_counts()"
   ]
  },
  {
   "cell_type": "code",
   "execution_count": 23,
   "id": "2d35b07b",
   "metadata": {
    "scrolled": true
   },
   "outputs": [
    {
     "data": {
      "text/plain": [
       "White shark                                           163\n",
       "Shark involvement prior to death was not confirmed    105\n",
       "Invalid                                               102\n",
       "Shark involvement not confirmed                        88\n",
       "Tiger shark                                            73\n",
       "Shark involvement prior to death unconfirmed           68\n",
       "Bull shark                                             52\n",
       "4' shark                                               40\n",
       "6' shark                                               40\n",
       "Questionable incident                                  35\n",
       "1.8 m [6'] shark                                       35\n",
       "Questionable                                           34\n",
       "1.5 m [5'] shark                                       32\n",
       "1.2 m [4'] shark                                       27\n",
       "5' shark                                               26\n",
       "3' shark                                               26\n",
       "2 m shark                                              25\n",
       "4' to 5' shark                                         24\n",
       "3 m [10'] shark                                        22\n",
       "No shark involvement                                   21\n",
       "Name: species, dtype: int64"
      ]
     },
     "execution_count": 23,
     "metadata": {},
     "output_type": "execute_result"
    }
   ],
   "source": [
    "data.species.value_counts().head(20)"
   ]
  },
  {
   "cell_type": "markdown",
   "id": "89eb9827",
   "metadata": {},
   "source": [
    "Información extremadamente sucia, habría que limpiarla mucho para poder realizar la correlación entre la especie de tiburon y tasa de mortalidad.\n",
    "Hay mucha información sobre el tamaño de los tiburones pero muy poca sobre la especie en sí, el analisis sería muy pobre."
   ]
  }
 ],
 "metadata": {
  "kernelspec": {
   "display_name": "ironhack",
   "language": "python",
   "name": "ironhack"
  },
  "language_info": {
   "codemirror_mode": {
    "name": "ipython",
    "version": 3
   },
   "file_extension": ".py",
   "mimetype": "text/x-python",
   "name": "python",
   "nbconvert_exporter": "python",
   "pygments_lexer": "ipython3",
   "version": "3.8.5"
  }
 },
 "nbformat": 4,
 "nbformat_minor": 5
}
